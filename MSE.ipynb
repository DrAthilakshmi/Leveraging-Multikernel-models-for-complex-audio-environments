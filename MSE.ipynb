{
  "nbformat": 4,
  "nbformat_minor": 0,
  "metadata": {
    "colab": {
      "provenance": []
    },
    "kernelspec": {
      "name": "python3",
      "display_name": "Python 3"
    },
    "language_info": {
      "name": "python"
    }
  },
  "cells": [
    {
      "cell_type": "code",
      "execution_count": null,
      "metadata": {
        "id": "gYhK26WDAOFY"
      },
      "outputs": [],
      "source": [
        "import numpy as np\n",
        "import soundfile as sf\n",
        "\n",
        "def load_audio_file(file_path):\n",
        "    signal, sr = sf.read(file_path)\n",
        "    return signal, sr\n",
        "\n",
        "def calculate_mse(original_signal, estimated_signal):\n",
        "    min_length = min(len(original_signal), len(estimated_signal))\n",
        "    original_signal = original_signal[:min_length]\n",
        "    estimated_signal = estimated_signal[:min_length]\n",
        "    mse = np.mean((original_signal - estimated_signal) ** 2)\n",
        "    return mse\n",
        "\n",
        "# Load original and estimated audio signals\n",
        "original_signal, sr_original = load_audio_file(\"swarup3.wav\")\n",
        "estimated_signal, sr_estimated = load_audio_file(\"/content/estimated_signal2_mkl_ica_2.wav\")\n",
        "\n",
        "# Calculate MSE\n",
        "mse = calculate_mse(original_signal, estimated_signal)\n",
        "print(\"MSE:\", mse)"
      ]
    }
  ]
}