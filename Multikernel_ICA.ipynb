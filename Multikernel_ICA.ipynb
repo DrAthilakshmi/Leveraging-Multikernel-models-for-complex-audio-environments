{
  "nbformat": 4,
  "nbformat_minor": 0,
  "metadata": {
    "colab": {
      "provenance": []
    },
    "kernelspec": {
      "name": "python3",
      "display_name": "Python 3"
    },
    "language_info": {
      "name": "python"
    }
  },
  "cells": [
    {
      "cell_type": "code",
      "execution_count": null,
      "metadata": {
        "id": "6z6XvXHw_LBU"
      },
      "outputs": [],
      "source": [
        "#Multiple Kernel ICA\n",
        "import numpy as np\n",
        "import matplotlib.pyplot as plt\n",
        "import librosa\n",
        "import soundfile as sf\n",
        "from sklearn.decomposition import FastICA\n",
        "from sklearn.kernel_approximation import RBFSampler\n",
        "from sklearn.model_selection import train_test_split\n",
        "from IPython.display import Audio, display"
      ]
    },
    {
      "cell_type": "code",
      "source": [
        "# Load audio files\n",
        "audio_files = [\n",
        "    '/content/mixed1.wav',\n",
        "    '/content/mixed2.wav'\n",
        "]\n",
        "\n",
        "# Load audio signals\n",
        "signals = []\n",
        "sampling_rates = []\n",
        "\n",
        "for audio_file in audio_files:\n",
        "    sig, sr = librosa.load(audio_file, sr=None)\n",
        "    signals.append(sig)\n",
        "    sampling_rates.append(sr)\n",
        "\n",
        "# Choosing the minimum length of the signals\n",
        "min_length = min(len(sig) for sig in signal)#finding the minimum length out of all audio signals in the list\n",
        "\n",
        "# Trimming signals to have the same length\n",
        "signals = [sig[:min_length] for sig in signal]#Here we are trimming signals to have same length over all audio signals\n",
        "\n",
        "# Mixing Signals\n",
        "X = np.column_stack(signals)\n"
      ],
      "metadata": {
        "id": "lAqfbBpL_N-e"
      },
      "execution_count": null,
      "outputs": []
    },
    {
      "cell_type": "code",
      "source": [
        "sf.write(f'mixed_signal2.wav', X, sampling_rates[0])"
      ],
      "metadata": {
        "id": "sUjmPP9G_OoT"
      },
      "execution_count": null,
      "outputs": []
    },
    {
      "cell_type": "code",
      "source": [
        "from IPython.display import Audio, display\n",
        "print('mixed1')\n",
        "display(Audio('/content/mixed1.wav',rate=sampling_rates[0]))\n",
        "print('mixed2')\n",
        "display(Audio('/content/mixed2.wav',rate=sampling_rates[0]))\n",
        "print('mixed signal')\n",
        "display(Audio('/content/mixed_signal2.wav',rate=sampling_rates[0]))"
      ],
      "metadata": {
        "id": "iyKGomJ5_Rtj"
      },
      "execution_count": null,
      "outputs": []
    },
    {
      "cell_type": "code",
      "source": [
        "# Creating multiple kernel representations using RBFSampler\n",
        "n_kernels = 15\n",
        "rbf_samplers = [RBFSampler(n_components=1000, random_state=i).fit(X) for i in range(n_kernels)] #matrix=X\n",
        "kernel_representations = [rbf.transform(X) for rbf in rbf_samplers]  #matrix=X\n",
        "\n",
        "# Reshape for MKL input\n",
        "X_reshaped = np.array(kernel_representations).reshape(len(kernel_representations), -1)\n",
        "\n",
        "# Perform MKL with ICA manually\n",
        "weights = [1.0 / n_kernels] * n_kernels  # Equal weights for simplicity\n",
        "combined_kernel = sum(weight * kernel for weight, kernel in zip(weights, kernel_representations))\n",
        "\n",
        "# Fitting ICA on the combined kernel\n",
        "ica_mkl = FastICA(n_components=len(audio_files))\n",
        "S_mkl = ica_mkl.fit_transform(combined_kernel)\n",
        "plt.title(f'Mixed Signal')\n",
        "plt.plot(X)\n",
        "plt.title(f'Mixed Signal for MKL-ICA')\n",
        "plt.plot(combined_kernel)"
      ],
      "metadata": {
        "id": "enNIii-U_Ta2"
      },
      "execution_count": null,
      "outputs": []
    },
    {
      "cell_type": "code",
      "source": [
        "# Plotting the original and estimated sources\n",
        "plt.figure(figsize=(15, 8))\n",
        "for i in range(len(audio_files)):\n",
        "    plt.subplot(3, len(audio_files), len(audio_files) + i + 1)\n",
        "    plt.title(f'MKL-ICA Estimated Source {i + 1}')\n",
        "    plt.plot(S_mkl[:, i])\n",
        "\n",
        "plt.tight_layout()\n",
        "plt.show()\n",
        "\n",
        "\n",
        "# Save the estimated signals to audio files\n",
        "for i in range(len(audio_files)):\n",
        "    sf.write(f'estimated_signal2_mkl_ica_{i + 1}.wav', S_mkl[:, i], sampling_rates[i])\n",
        "    print(\"Estimated signal: \",i+1)\n",
        "    display(Audio(S_mkl[:,i],rate=sampling_rates[0]))\n"
      ],
      "metadata": {
        "id": "ZAgZhekD_Yqj"
      },
      "execution_count": null,
      "outputs": []
    }
  ]
}