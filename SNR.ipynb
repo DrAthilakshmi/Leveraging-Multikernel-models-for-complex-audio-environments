{
  "nbformat": 4,
  "nbformat_minor": 0,
  "metadata": {
    "colab": {
      "provenance": []
    },
    "kernelspec": {
      "name": "python3",
      "display_name": "Python 3"
    },
    "language_info": {
      "name": "python"
    }
  },
  "cells": [
    {
      "cell_type": "code",
      "execution_count": null,
      "metadata": {
        "id": "-zGGriy8AGb8"
      },
      "outputs": [],
      "source": [
        "import numpy as np\n",
        "import soundfile as sf\n",
        "\n",
        "def load_audio_file(file_path):\n",
        "    signal, sr = sf.read(file_path)\n",
        "    return signal, sr\n",
        "\n",
        "def calculate_snr(original_signal, estimated_signal):\n",
        "    # Ensure both signals have the same length\n",
        "    min_length = min(len(original_signal), len(estimated_signal))\n",
        "    original_signal = original_signal[:min_length]\n",
        "    estimated_signal = estimated_signal[:min_length]\n",
        "    signal_power = np.sum(original_signal ** 2)\n",
        "    noise = original_signal - estimated_signal\n",
        "    noise_power = np.sum(noise ** 2)\n",
        "    # Compute SNR in decibels (dB)\n",
        "    snr_db = 10 * np.log10(signal_power / noise_power)\n",
        "    return snr_db\n",
        "\n",
        "# Load original and estimated audio signals\n",
        "original_signal, sr_original = load_audio_file(\"/content/swarup3.wav\")\n",
        "estimated_signal, sr_estimated = load_audio_file(\"/content/scaled_audio.wav\")\n",
        "# Calculate SNR\n",
        "snr = calculate_snr(original_signal, estimated_signal)\n",
        "print(\"SNR:\", snr, \"dB\")"
      ]
    }
  ]
}