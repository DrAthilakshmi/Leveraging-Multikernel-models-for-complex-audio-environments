{
  "nbformat": 4,
  "nbformat_minor": 0,
  "metadata": {
    "colab": {
      "provenance": []
    },
    "kernelspec": {
      "name": "python3",
      "display_name": "Python 3"
    },
    "language_info": {
      "name": "python"
    }
  },
  "cells": [
    {
      "cell_type": "code",
      "execution_count": null,
      "metadata": {
        "id": "epaEVbe4_1Hd"
      },
      "outputs": [],
      "source": [
        "import numpy as np\n",
        "import librosa\n",
        "import soundfile as sf\n",
        "\n",
        "# Load audio signal\n",
        "audio_file = \"/content/swarup3.wav\"\n",
        "original, sr = librosa.load(audio_file, sr=None)\n",
        "\n",
        "audio_file = \"/content/estimated_signal2_mkl_ica_2.wav\"\n",
        "signal, sr = librosa.load(audio_file, sr=None)\n",
        "\n",
        "min_length = min(len(original), len(signal))\n",
        "original = original[:min_length]\n",
        "signal = signal[:min_length]\n",
        "\n",
        "min_amp = np.min(original)\n",
        "max_amp = np.max(original)\n",
        "\n",
        "# Define the desired range for the amplitude\n",
        "desired_min_amplitude = min_amp  # Minimum desired amplitude\n",
        "desired_max_amplitude = max_amp   # Maximum desired amplitude\n",
        "\n",
        "# Calculate the current maximum amplitude of the signal\n",
        "current_max_amplitude = np.max(np.abs(signal))\n",
        "\n",
        "# Calculate the scaling factors to bring the signal within the desired range\n",
        "scaling_factor_max = desired_max_amplitude / current_max_amplitude\n",
        "scaling_factor_min = desired_min_amplitude / current_max_amplitude\n",
        "\n",
        "# Choose the appropriate scaling factor that ensures the entire signal remains within the desired range\n",
        "scaling_factor = min(scaling_factor_max, scaling_factor_min)\n",
        "\n",
        "# Scale the signal to bring it within the desired range\n",
        "scaled_signal = signal * scaling_factor\n",
        "\n",
        "# Plot the original and scaled signals\n",
        "import matplotlib.pyplot as plt\n",
        "\n",
        "plt.figure(figsize=(10, 6))\n",
        "plt.plot(scaled_signal, label='Scaled Signal', color='red')\n",
        "plt.xlabel('Sample')\n",
        "plt.ylabel('Amplitude')\n",
        "plt.title('Original and Scaled Audio Signals')\n",
        "plt.legend()\n",
        "plt.show()\n",
        "\n",
        "# Save the scaled signal to a new audio file\n",
        "sf.write(\"scaled_audio.wav\", scaled_signal, sr)\n"
      ]
    },
    {
      "cell_type": "code",
      "source": [
        "plt.figure(figsize=(10, 6))\n",
        "plt.plot(original, label='Original Signal', color='blue')\n",
        "plt.xlabel('Sample')\n",
        "plt.ylabel('Amplitude')\n",
        "plt.title('Original and Scaled Audio Signals')\n",
        "plt.legend()\n",
        "plt.show()"
      ],
      "metadata": {
        "id": "41jXREl8_5Sq"
      },
      "execution_count": null,
      "outputs": []
    }
  ]
}